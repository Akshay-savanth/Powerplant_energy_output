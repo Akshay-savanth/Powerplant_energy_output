{
 "cells": [
  {
   "cell_type": "code",
   "execution_count": 176,
   "metadata": {
    "ExecuteTime": {
     "end_time": "2021-04-29T09:04:22.074038Z",
     "start_time": "2021-04-29T09:04:22.068044Z"
    }
   },
   "outputs": [],
   "source": [
    "import pyforest"
   ]
  },
  {
   "cell_type": "code",
   "execution_count": 177,
   "metadata": {
    "ExecuteTime": {
     "end_time": "2021-04-29T09:04:23.838267Z",
     "start_time": "2021-04-29T09:04:23.713244Z"
    }
   },
   "outputs": [
    {
     "data": {
      "application/javascript": [
       "\n",
       "        if (window._pyforest_update_imports_cell) { window._pyforest_update_imports_cell('import sklearn\\nimport seaborn as sns\\nimport pandas as pd'); }\n",
       "    "
      ],
      "text/plain": [
       "<IPython.core.display.Javascript object>"
      ]
     },
     "metadata": {},
     "output_type": "display_data"
    },
    {
     "data": {
      "text/html": [
       "<div>\n",
       "<style scoped>\n",
       "    .dataframe tbody tr th:only-of-type {\n",
       "        vertical-align: middle;\n",
       "    }\n",
       "\n",
       "    .dataframe tbody tr th {\n",
       "        vertical-align: top;\n",
       "    }\n",
       "\n",
       "    .dataframe thead th {\n",
       "        text-align: right;\n",
       "    }\n",
       "</style>\n",
       "<table border=\"1\" class=\"dataframe\">\n",
       "  <thead>\n",
       "    <tr style=\"text-align: right;\">\n",
       "      <th></th>\n",
       "      <th>AT</th>\n",
       "      <th>V</th>\n",
       "      <th>AP</th>\n",
       "      <th>RH</th>\n",
       "      <th>PE</th>\n",
       "    </tr>\n",
       "  </thead>\n",
       "  <tbody>\n",
       "    <tr>\n",
       "      <th>0</th>\n",
       "      <td>29.07</td>\n",
       "      <td>72.51</td>\n",
       "      <td>1009.24</td>\n",
       "      <td>58.38</td>\n",
       "      <td>449.371855</td>\n",
       "    </tr>\n",
       "    <tr>\n",
       "      <th>1</th>\n",
       "      <td>32.38</td>\n",
       "      <td>67.17</td>\n",
       "      <td>1006.97</td>\n",
       "      <td>60.04</td>\n",
       "      <td>450.861043</td>\n",
       "    </tr>\n",
       "    <tr>\n",
       "      <th>2</th>\n",
       "      <td>19.29</td>\n",
       "      <td>67.71</td>\n",
       "      <td>1007.94</td>\n",
       "      <td>63.71</td>\n",
       "      <td>460.894029</td>\n",
       "    </tr>\n",
       "    <tr>\n",
       "      <th>3</th>\n",
       "      <td>16.45</td>\n",
       "      <td>41.48</td>\n",
       "      <td>1016.64</td>\n",
       "      <td>45.21</td>\n",
       "      <td>467.577314</td>\n",
       "    </tr>\n",
       "    <tr>\n",
       "      <th>4</th>\n",
       "      <td>21.43</td>\n",
       "      <td>46.97</td>\n",
       "      <td>1013.94</td>\n",
       "      <td>61.25</td>\n",
       "      <td>469.805723</td>\n",
       "    </tr>\n",
       "    <tr>\n",
       "      <th>...</th>\n",
       "      <td>...</td>\n",
       "      <td>...</td>\n",
       "      <td>...</td>\n",
       "      <td>...</td>\n",
       "      <td>...</td>\n",
       "    </tr>\n",
       "    <tr>\n",
       "      <th>9563</th>\n",
       "      <td>4.44</td>\n",
       "      <td>38.44</td>\n",
       "      <td>1016.14</td>\n",
       "      <td>75.35</td>\n",
       "      <td>499.615488</td>\n",
       "    </tr>\n",
       "    <tr>\n",
       "      <th>9564</th>\n",
       "      <td>18.18</td>\n",
       "      <td>67.71</td>\n",
       "      <td>1004.50</td>\n",
       "      <td>87.26</td>\n",
       "      <td>461.130122</td>\n",
       "    </tr>\n",
       "    <tr>\n",
       "      <th>9565</th>\n",
       "      <td>10.96</td>\n",
       "      <td>45.01</td>\n",
       "      <td>1017.97</td>\n",
       "      <td>95.82</td>\n",
       "      <td>481.245635</td>\n",
       "    </tr>\n",
       "    <tr>\n",
       "      <th>9566</th>\n",
       "      <td>8.70</td>\n",
       "      <td>36.24</td>\n",
       "      <td>1013.34</td>\n",
       "      <td>89.50</td>\n",
       "      <td>490.928341</td>\n",
       "    </tr>\n",
       "    <tr>\n",
       "      <th>9567</th>\n",
       "      <td>27.97</td>\n",
       "      <td>58.84</td>\n",
       "      <td>1002.25</td>\n",
       "      <td>57.88</td>\n",
       "      <td>457.630310</td>\n",
       "    </tr>\n",
       "  </tbody>\n",
       "</table>\n",
       "<p>9568 rows × 5 columns</p>\n",
       "</div>"
      ],
      "text/plain": [
       "         AT      V       AP     RH          PE\n",
       "0     29.07  72.51  1009.24  58.38  449.371855\n",
       "1     32.38  67.17  1006.97  60.04  450.861043\n",
       "2     19.29  67.71  1007.94  63.71  460.894029\n",
       "3     16.45  41.48  1016.64  45.21  467.577314\n",
       "4     21.43  46.97  1013.94  61.25  469.805723\n",
       "...     ...    ...      ...    ...         ...\n",
       "9563   4.44  38.44  1016.14  75.35  499.615488\n",
       "9564  18.18  67.71  1004.50  87.26  461.130122\n",
       "9565  10.96  45.01  1017.97  95.82  481.245635\n",
       "9566   8.70  36.24  1013.34  89.50  490.928341\n",
       "9567  27.97  58.84  1002.25  57.88  457.630310\n",
       "\n",
       "[9568 rows x 5 columns]"
      ]
     },
     "execution_count": 177,
     "metadata": {},
     "output_type": "execute_result"
    }
   ],
   "source": [
    "power=pd.read_csv(\"powerplant_train.csv\")\n",
    "power"
   ]
  },
  {
   "cell_type": "markdown",
   "metadata": {},
   "source": [
    "### Rename cloumns for convinience"
   ]
  },
  {
   "cell_type": "code",
   "execution_count": 178,
   "metadata": {
    "ExecuteTime": {
     "end_time": "2021-04-29T09:04:26.648936Z",
     "start_time": "2021-04-29T09:04:26.618033Z"
    }
   },
   "outputs": [],
   "source": [
    "power.rename(columns={'AT':'Ambient_temperature','V':'Exhaust_Vaccum','AP':'Ambient_pressure','RH':'Relative_humidity','PE':'Energy_output'},inplace=True)"
   ]
  },
  {
   "cell_type": "code",
   "execution_count": 179,
   "metadata": {
    "ExecuteTime": {
     "end_time": "2021-04-29T09:04:28.618797Z",
     "start_time": "2021-04-29T09:04:28.581821Z"
    }
   },
   "outputs": [
    {
     "data": {
      "text/html": [
       "<div>\n",
       "<style scoped>\n",
       "    .dataframe tbody tr th:only-of-type {\n",
       "        vertical-align: middle;\n",
       "    }\n",
       "\n",
       "    .dataframe tbody tr th {\n",
       "        vertical-align: top;\n",
       "    }\n",
       "\n",
       "    .dataframe thead th {\n",
       "        text-align: right;\n",
       "    }\n",
       "</style>\n",
       "<table border=\"1\" class=\"dataframe\">\n",
       "  <thead>\n",
       "    <tr style=\"text-align: right;\">\n",
       "      <th></th>\n",
       "      <th>Ambient_temperature</th>\n",
       "      <th>Exhaust_Vaccum</th>\n",
       "      <th>Ambient_pressure</th>\n",
       "      <th>Relative_humidity</th>\n",
       "      <th>Energy_output</th>\n",
       "    </tr>\n",
       "  </thead>\n",
       "  <tbody>\n",
       "    <tr>\n",
       "      <th>0</th>\n",
       "      <td>29.07</td>\n",
       "      <td>72.51</td>\n",
       "      <td>1009.24</td>\n",
       "      <td>58.38</td>\n",
       "      <td>449.371855</td>\n",
       "    </tr>\n",
       "    <tr>\n",
       "      <th>1</th>\n",
       "      <td>32.38</td>\n",
       "      <td>67.17</td>\n",
       "      <td>1006.97</td>\n",
       "      <td>60.04</td>\n",
       "      <td>450.861043</td>\n",
       "    </tr>\n",
       "    <tr>\n",
       "      <th>2</th>\n",
       "      <td>19.29</td>\n",
       "      <td>67.71</td>\n",
       "      <td>1007.94</td>\n",
       "      <td>63.71</td>\n",
       "      <td>460.894029</td>\n",
       "    </tr>\n",
       "    <tr>\n",
       "      <th>3</th>\n",
       "      <td>16.45</td>\n",
       "      <td>41.48</td>\n",
       "      <td>1016.64</td>\n",
       "      <td>45.21</td>\n",
       "      <td>467.577314</td>\n",
       "    </tr>\n",
       "    <tr>\n",
       "      <th>4</th>\n",
       "      <td>21.43</td>\n",
       "      <td>46.97</td>\n",
       "      <td>1013.94</td>\n",
       "      <td>61.25</td>\n",
       "      <td>469.805723</td>\n",
       "    </tr>\n",
       "    <tr>\n",
       "      <th>...</th>\n",
       "      <td>...</td>\n",
       "      <td>...</td>\n",
       "      <td>...</td>\n",
       "      <td>...</td>\n",
       "      <td>...</td>\n",
       "    </tr>\n",
       "    <tr>\n",
       "      <th>9563</th>\n",
       "      <td>4.44</td>\n",
       "      <td>38.44</td>\n",
       "      <td>1016.14</td>\n",
       "      <td>75.35</td>\n",
       "      <td>499.615488</td>\n",
       "    </tr>\n",
       "    <tr>\n",
       "      <th>9564</th>\n",
       "      <td>18.18</td>\n",
       "      <td>67.71</td>\n",
       "      <td>1004.50</td>\n",
       "      <td>87.26</td>\n",
       "      <td>461.130122</td>\n",
       "    </tr>\n",
       "    <tr>\n",
       "      <th>9565</th>\n",
       "      <td>10.96</td>\n",
       "      <td>45.01</td>\n",
       "      <td>1017.97</td>\n",
       "      <td>95.82</td>\n",
       "      <td>481.245635</td>\n",
       "    </tr>\n",
       "    <tr>\n",
       "      <th>9566</th>\n",
       "      <td>8.70</td>\n",
       "      <td>36.24</td>\n",
       "      <td>1013.34</td>\n",
       "      <td>89.50</td>\n",
       "      <td>490.928341</td>\n",
       "    </tr>\n",
       "    <tr>\n",
       "      <th>9567</th>\n",
       "      <td>27.97</td>\n",
       "      <td>58.84</td>\n",
       "      <td>1002.25</td>\n",
       "      <td>57.88</td>\n",
       "      <td>457.630310</td>\n",
       "    </tr>\n",
       "  </tbody>\n",
       "</table>\n",
       "<p>9568 rows × 5 columns</p>\n",
       "</div>"
      ],
      "text/plain": [
       "      Ambient_temperature  Exhaust_Vaccum  Ambient_pressure  \\\n",
       "0                   29.07           72.51           1009.24   \n",
       "1                   32.38           67.17           1006.97   \n",
       "2                   19.29           67.71           1007.94   \n",
       "3                   16.45           41.48           1016.64   \n",
       "4                   21.43           46.97           1013.94   \n",
       "...                   ...             ...               ...   \n",
       "9563                 4.44           38.44           1016.14   \n",
       "9564                18.18           67.71           1004.50   \n",
       "9565                10.96           45.01           1017.97   \n",
       "9566                 8.70           36.24           1013.34   \n",
       "9567                27.97           58.84           1002.25   \n",
       "\n",
       "      Relative_humidity  Energy_output  \n",
       "0                 58.38     449.371855  \n",
       "1                 60.04     450.861043  \n",
       "2                 63.71     460.894029  \n",
       "3                 45.21     467.577314  \n",
       "4                 61.25     469.805723  \n",
       "...                 ...            ...  \n",
       "9563              75.35     499.615488  \n",
       "9564              87.26     461.130122  \n",
       "9565              95.82     481.245635  \n",
       "9566              89.50     490.928341  \n",
       "9567              57.88     457.630310  \n",
       "\n",
       "[9568 rows x 5 columns]"
      ]
     },
     "execution_count": 179,
     "metadata": {},
     "output_type": "execute_result"
    }
   ],
   "source": [
    "power"
   ]
  },
  {
   "cell_type": "markdown",
   "metadata": {},
   "source": [
    "## Exploratory data analysis"
   ]
  },
  {
   "cell_type": "code",
   "execution_count": 180,
   "metadata": {
    "ExecuteTime": {
     "end_time": "2021-04-29T09:04:31.188831Z",
     "start_time": "2021-04-29T09:04:31.159846Z"
    }
   },
   "outputs": [
    {
     "data": {
      "text/plain": [
       "Ambient_temperature    0.0\n",
       "Exhaust_Vaccum         0.0\n",
       "Ambient_pressure       0.0\n",
       "Relative_humidity      0.0\n",
       "Energy_output          0.0\n",
       "dtype: float64"
      ]
     },
     "execution_count": 180,
     "metadata": {},
     "output_type": "execute_result"
    }
   ],
   "source": [
    "power.isna().mean()*100"
   ]
  },
  {
   "cell_type": "code",
   "execution_count": 181,
   "metadata": {
    "ExecuteTime": {
     "end_time": "2021-04-29T09:05:33.479517Z",
     "start_time": "2021-04-29T09:04:34.212440Z"
    }
   },
   "outputs": [
    {
     "data": {
      "text/html": [
       "\n",
       "        <iframe\n",
       "            width=\"100%\"\n",
       "            height=\"475\"\n",
       "            src=\"http://Akshay:40000/dtale/iframe/1\"\n",
       "            frameborder=\"0\"\n",
       "            allowfullscreen\n",
       "        ></iframe>\n",
       "        "
      ],
      "text/plain": [
       "<IPython.lib.display.IFrame at 0x25dfdbe9f40>"
      ]
     },
     "metadata": {},
     "output_type": "display_data"
    },
    {
     "data": {
      "text/plain": []
     },
     "execution_count": 181,
     "metadata": {},
     "output_type": "execute_result"
    }
   ],
   "source": [
    "import dtale #Auto EDA library\n",
    "dtale.show(power)"
   ]
  },
  {
   "cell_type": "code",
   "execution_count": 182,
   "metadata": {
    "ExecuteTime": {
     "end_time": "2021-04-29T09:05:47.453228Z",
     "start_time": "2021-04-29T09:05:47.407334Z"
    }
   },
   "outputs": [
    {
     "data": {
      "text/html": [
       "<div>\n",
       "<style scoped>\n",
       "    .dataframe tbody tr th:only-of-type {\n",
       "        vertical-align: middle;\n",
       "    }\n",
       "\n",
       "    .dataframe tbody tr th {\n",
       "        vertical-align: top;\n",
       "    }\n",
       "\n",
       "    .dataframe thead th {\n",
       "        text-align: right;\n",
       "    }\n",
       "</style>\n",
       "<table border=\"1\" class=\"dataframe\">\n",
       "  <thead>\n",
       "    <tr style=\"text-align: right;\">\n",
       "      <th></th>\n",
       "      <th>Ambient_temperature</th>\n",
       "      <th>Exhaust_Vaccum</th>\n",
       "      <th>Ambient_pressure</th>\n",
       "      <th>Relative_humidity</th>\n",
       "      <th>Energy_output</th>\n",
       "    </tr>\n",
       "  </thead>\n",
       "  <tbody>\n",
       "    <tr>\n",
       "      <th>Ambient_temperature</th>\n",
       "      <td>1.000000</td>\n",
       "      <td>0.842054</td>\n",
       "      <td>-0.514305</td>\n",
       "      <td>-0.541602</td>\n",
       "      <td>-0.946352</td>\n",
       "    </tr>\n",
       "    <tr>\n",
       "      <th>Exhaust_Vaccum</th>\n",
       "      <td>0.842054</td>\n",
       "      <td>1.000000</td>\n",
       "      <td>-0.415093</td>\n",
       "      <td>-0.306395</td>\n",
       "      <td>-0.867356</td>\n",
       "    </tr>\n",
       "    <tr>\n",
       "      <th>Ambient_pressure</th>\n",
       "      <td>-0.514305</td>\n",
       "      <td>-0.415093</td>\n",
       "      <td>1.000000</td>\n",
       "      <td>0.115454</td>\n",
       "      <td>0.520058</td>\n",
       "    </tr>\n",
       "    <tr>\n",
       "      <th>Relative_humidity</th>\n",
       "      <td>-0.541602</td>\n",
       "      <td>-0.306395</td>\n",
       "      <td>0.115454</td>\n",
       "      <td>1.000000</td>\n",
       "      <td>0.387785</td>\n",
       "    </tr>\n",
       "    <tr>\n",
       "      <th>Energy_output</th>\n",
       "      <td>-0.946352</td>\n",
       "      <td>-0.867356</td>\n",
       "      <td>0.520058</td>\n",
       "      <td>0.387785</td>\n",
       "      <td>1.000000</td>\n",
       "    </tr>\n",
       "  </tbody>\n",
       "</table>\n",
       "</div>"
      ],
      "text/plain": [
       "                     Ambient_temperature  Exhaust_Vaccum  Ambient_pressure  \\\n",
       "Ambient_temperature             1.000000        0.842054         -0.514305   \n",
       "Exhaust_Vaccum                  0.842054        1.000000         -0.415093   \n",
       "Ambient_pressure               -0.514305       -0.415093          1.000000   \n",
       "Relative_humidity              -0.541602       -0.306395          0.115454   \n",
       "Energy_output                  -0.946352       -0.867356          0.520058   \n",
       "\n",
       "                     Relative_humidity  Energy_output  \n",
       "Ambient_temperature          -0.541602      -0.946352  \n",
       "Exhaust_Vaccum               -0.306395      -0.867356  \n",
       "Ambient_pressure              0.115454       0.520058  \n",
       "Relative_humidity             1.000000       0.387785  \n",
       "Energy_output                 0.387785       1.000000  "
      ]
     },
     "execution_count": 182,
     "metadata": {},
     "output_type": "execute_result"
    }
   ],
   "source": [
    "power.corr()"
   ]
  },
  {
   "cell_type": "code",
   "execution_count": 183,
   "metadata": {
    "ExecuteTime": {
     "end_time": "2021-04-29T09:06:15.806966Z",
     "start_time": "2021-04-29T09:06:15.777338Z"
    }
   },
   "outputs": [],
   "source": [
    "from statsmodels.stats.outliers_influence import variance_inflation_factor #Check VIF \n",
    "\n",
    "def calc_vif(X):\n",
    "    \n",
    "    #calculating vif\n",
    "    vif=pd.DataFrame()\n",
    "    vif['variables']=X.columns\n",
    "    vif['vif']=[variance_inflation_factor(X.values,i)for i in range(X.shape[1])]\n",
    "    return(vif)"
   ]
  },
  {
   "cell_type": "code",
   "execution_count": 184,
   "metadata": {
    "ExecuteTime": {
     "end_time": "2021-04-29T09:06:18.088063Z",
     "start_time": "2021-04-29T09:06:17.975889Z"
    }
   },
   "outputs": [
    {
     "data": {
      "application/javascript": [
       "\n",
       "        if (window._pyforest_update_imports_cell) { window._pyforest_update_imports_cell('import sklearn\\nimport seaborn as sns\\nimport pandas as pd'); }\n",
       "    "
      ],
      "text/plain": [
       "<IPython.core.display.Javascript object>"
      ]
     },
     "metadata": {},
     "output_type": "display_data"
    },
    {
     "data": {
      "text/html": [
       "<div>\n",
       "<style scoped>\n",
       "    .dataframe tbody tr th:only-of-type {\n",
       "        vertical-align: middle;\n",
       "    }\n",
       "\n",
       "    .dataframe tbody tr th {\n",
       "        vertical-align: top;\n",
       "    }\n",
       "\n",
       "    .dataframe thead th {\n",
       "        text-align: right;\n",
       "    }\n",
       "</style>\n",
       "<table border=\"1\" class=\"dataframe\">\n",
       "  <thead>\n",
       "    <tr style=\"text-align: right;\">\n",
       "      <th></th>\n",
       "      <th>variables</th>\n",
       "      <th>vif</th>\n",
       "    </tr>\n",
       "  </thead>\n",
       "  <tbody>\n",
       "    <tr>\n",
       "      <th>0</th>\n",
       "      <td>Ambient_temperature</td>\n",
       "      <td>39.628674</td>\n",
       "    </tr>\n",
       "    <tr>\n",
       "      <th>1</th>\n",
       "      <td>Exhaust_Vaccum</td>\n",
       "      <td>75.141413</td>\n",
       "    </tr>\n",
       "    <tr>\n",
       "      <th>2</th>\n",
       "      <td>Ambient_pressure</td>\n",
       "      <td>66.505884</td>\n",
       "    </tr>\n",
       "    <tr>\n",
       "      <th>3</th>\n",
       "      <td>Relative_humidity</td>\n",
       "      <td>40.633299</td>\n",
       "    </tr>\n",
       "  </tbody>\n",
       "</table>\n",
       "</div>"
      ],
      "text/plain": [
       "             variables        vif\n",
       "0  Ambient_temperature  39.628674\n",
       "1       Exhaust_Vaccum  75.141413\n",
       "2     Ambient_pressure  66.505884\n",
       "3    Relative_humidity  40.633299"
      ]
     },
     "execution_count": 184,
     "metadata": {},
     "output_type": "execute_result"
    }
   ],
   "source": [
    "X=power.iloc[:,:-1]\n",
    "calc_vif(X)"
   ]
  },
  {
   "cell_type": "code",
   "execution_count": 185,
   "metadata": {
    "ExecuteTime": {
     "end_time": "2021-04-29T09:06:21.777271Z",
     "start_time": "2021-04-29T09:06:21.754290Z"
    }
   },
   "outputs": [
    {
     "data": {
      "text/plain": [
       "Ambient_temperature   -1.038187\n",
       "Exhaust_Vaccum        -1.459973\n",
       "Ambient_pressure       0.022437\n",
       "Relative_humidity     -0.493871\n",
       "Energy_output         -1.033160\n",
       "dtype: float64"
      ]
     },
     "execution_count": 185,
     "metadata": {},
     "output_type": "execute_result"
    }
   ],
   "source": [
    "power.kurtosis()"
   ]
  },
  {
   "cell_type": "code",
   "execution_count": 186,
   "metadata": {
    "ExecuteTime": {
     "end_time": "2021-04-29T09:06:23.494965Z",
     "start_time": "2021-04-29T09:06:23.473999Z"
    }
   },
   "outputs": [
    {
     "data": {
      "text/plain": [
       "Ambient_temperature   -0.149024\n",
       "Exhaust_Vaccum         0.177096\n",
       "Ambient_pressure       0.240197\n",
       "Relative_humidity     -0.423511\n",
       "Energy_output          0.322296\n",
       "dtype: float64"
      ]
     },
     "execution_count": 186,
     "metadata": {},
     "output_type": "execute_result"
    }
   ],
   "source": [
    "power.skew()"
   ]
  },
  {
   "cell_type": "markdown",
   "metadata": {},
   "source": [
    "## Feature Engineering"
   ]
  },
  {
   "cell_type": "code",
   "execution_count": 187,
   "metadata": {
    "ExecuteTime": {
     "end_time": "2021-04-29T09:08:31.037853Z",
     "start_time": "2021-04-29T09:08:31.013833Z"
    }
   },
   "outputs": [],
   "source": [
    "power.drop(['Exhaust_Vaccum'],inplace=True,axis=1) #Drop this & consider of the columns as it is having high correlation with Ambient Temperature variables"
   ]
  },
  {
   "cell_type": "code",
   "execution_count": 188,
   "metadata": {
    "ExecuteTime": {
     "end_time": "2021-04-29T09:08:34.059907Z",
     "start_time": "2021-04-29T09:08:34.027905Z"
    }
   },
   "outputs": [
    {
     "data": {
      "text/html": [
       "<div>\n",
       "<style scoped>\n",
       "    .dataframe tbody tr th:only-of-type {\n",
       "        vertical-align: middle;\n",
       "    }\n",
       "\n",
       "    .dataframe tbody tr th {\n",
       "        vertical-align: top;\n",
       "    }\n",
       "\n",
       "    .dataframe thead th {\n",
       "        text-align: right;\n",
       "    }\n",
       "</style>\n",
       "<table border=\"1\" class=\"dataframe\">\n",
       "  <thead>\n",
       "    <tr style=\"text-align: right;\">\n",
       "      <th></th>\n",
       "      <th>Ambient_temperature</th>\n",
       "      <th>Ambient_pressure</th>\n",
       "      <th>Relative_humidity</th>\n",
       "      <th>Energy_output</th>\n",
       "    </tr>\n",
       "  </thead>\n",
       "  <tbody>\n",
       "    <tr>\n",
       "      <th>0</th>\n",
       "      <td>29.07</td>\n",
       "      <td>1009.24</td>\n",
       "      <td>58.38</td>\n",
       "      <td>449.371855</td>\n",
       "    </tr>\n",
       "    <tr>\n",
       "      <th>1</th>\n",
       "      <td>32.38</td>\n",
       "      <td>1006.97</td>\n",
       "      <td>60.04</td>\n",
       "      <td>450.861043</td>\n",
       "    </tr>\n",
       "    <tr>\n",
       "      <th>2</th>\n",
       "      <td>19.29</td>\n",
       "      <td>1007.94</td>\n",
       "      <td>63.71</td>\n",
       "      <td>460.894029</td>\n",
       "    </tr>\n",
       "    <tr>\n",
       "      <th>3</th>\n",
       "      <td>16.45</td>\n",
       "      <td>1016.64</td>\n",
       "      <td>45.21</td>\n",
       "      <td>467.577314</td>\n",
       "    </tr>\n",
       "    <tr>\n",
       "      <th>4</th>\n",
       "      <td>21.43</td>\n",
       "      <td>1013.94</td>\n",
       "      <td>61.25</td>\n",
       "      <td>469.805723</td>\n",
       "    </tr>\n",
       "    <tr>\n",
       "      <th>...</th>\n",
       "      <td>...</td>\n",
       "      <td>...</td>\n",
       "      <td>...</td>\n",
       "      <td>...</td>\n",
       "    </tr>\n",
       "    <tr>\n",
       "      <th>9563</th>\n",
       "      <td>4.44</td>\n",
       "      <td>1016.14</td>\n",
       "      <td>75.35</td>\n",
       "      <td>499.615488</td>\n",
       "    </tr>\n",
       "    <tr>\n",
       "      <th>9564</th>\n",
       "      <td>18.18</td>\n",
       "      <td>1004.50</td>\n",
       "      <td>87.26</td>\n",
       "      <td>461.130122</td>\n",
       "    </tr>\n",
       "    <tr>\n",
       "      <th>9565</th>\n",
       "      <td>10.96</td>\n",
       "      <td>1017.97</td>\n",
       "      <td>95.82</td>\n",
       "      <td>481.245635</td>\n",
       "    </tr>\n",
       "    <tr>\n",
       "      <th>9566</th>\n",
       "      <td>8.70</td>\n",
       "      <td>1013.34</td>\n",
       "      <td>89.50</td>\n",
       "      <td>490.928341</td>\n",
       "    </tr>\n",
       "    <tr>\n",
       "      <th>9567</th>\n",
       "      <td>27.97</td>\n",
       "      <td>1002.25</td>\n",
       "      <td>57.88</td>\n",
       "      <td>457.630310</td>\n",
       "    </tr>\n",
       "  </tbody>\n",
       "</table>\n",
       "<p>9568 rows × 4 columns</p>\n",
       "</div>"
      ],
      "text/plain": [
       "      Ambient_temperature  Ambient_pressure  Relative_humidity  Energy_output\n",
       "0                   29.07           1009.24              58.38     449.371855\n",
       "1                   32.38           1006.97              60.04     450.861043\n",
       "2                   19.29           1007.94              63.71     460.894029\n",
       "3                   16.45           1016.64              45.21     467.577314\n",
       "4                   21.43           1013.94              61.25     469.805723\n",
       "...                   ...               ...                ...            ...\n",
       "9563                 4.44           1016.14              75.35     499.615488\n",
       "9564                18.18           1004.50              87.26     461.130122\n",
       "9565                10.96           1017.97              95.82     481.245635\n",
       "9566                 8.70           1013.34              89.50     490.928341\n",
       "9567                27.97           1002.25              57.88     457.630310\n",
       "\n",
       "[9568 rows x 4 columns]"
      ]
     },
     "execution_count": 188,
     "metadata": {},
     "output_type": "execute_result"
    }
   ],
   "source": [
    "power"
   ]
  },
  {
   "cell_type": "code",
   "execution_count": 189,
   "metadata": {
    "ExecuteTime": {
     "end_time": "2021-04-29T09:09:21.711296Z",
     "start_time": "2021-04-29T09:09:21.671299Z"
    }
   },
   "outputs": [
    {
     "data": {
      "text/html": [
       "<div>\n",
       "<style scoped>\n",
       "    .dataframe tbody tr th:only-of-type {\n",
       "        vertical-align: middle;\n",
       "    }\n",
       "\n",
       "    .dataframe tbody tr th {\n",
       "        vertical-align: top;\n",
       "    }\n",
       "\n",
       "    .dataframe thead th {\n",
       "        text-align: right;\n",
       "    }\n",
       "</style>\n",
       "<table border=\"1\" class=\"dataframe\">\n",
       "  <thead>\n",
       "    <tr style=\"text-align: right;\">\n",
       "      <th></th>\n",
       "      <th>Ambient_temperature</th>\n",
       "      <th>Ambient_pressure</th>\n",
       "      <th>Relative_humidity</th>\n",
       "      <th>Energy_output</th>\n",
       "    </tr>\n",
       "  </thead>\n",
       "  <tbody>\n",
       "    <tr>\n",
       "      <th>Ambient_temperature</th>\n",
       "      <td>1.000000</td>\n",
       "      <td>-0.514305</td>\n",
       "      <td>-0.541602</td>\n",
       "      <td>-0.946352</td>\n",
       "    </tr>\n",
       "    <tr>\n",
       "      <th>Ambient_pressure</th>\n",
       "      <td>-0.514305</td>\n",
       "      <td>1.000000</td>\n",
       "      <td>0.115454</td>\n",
       "      <td>0.520058</td>\n",
       "    </tr>\n",
       "    <tr>\n",
       "      <th>Relative_humidity</th>\n",
       "      <td>-0.541602</td>\n",
       "      <td>0.115454</td>\n",
       "      <td>1.000000</td>\n",
       "      <td>0.387785</td>\n",
       "    </tr>\n",
       "    <tr>\n",
       "      <th>Energy_output</th>\n",
       "      <td>-0.946352</td>\n",
       "      <td>0.520058</td>\n",
       "      <td>0.387785</td>\n",
       "      <td>1.000000</td>\n",
       "    </tr>\n",
       "  </tbody>\n",
       "</table>\n",
       "</div>"
      ],
      "text/plain": [
       "                     Ambient_temperature  Ambient_pressure  Relative_humidity  \\\n",
       "Ambient_temperature             1.000000         -0.514305          -0.541602   \n",
       "Ambient_pressure               -0.514305          1.000000           0.115454   \n",
       "Relative_humidity              -0.541602          0.115454           1.000000   \n",
       "Energy_output                  -0.946352          0.520058           0.387785   \n",
       "\n",
       "                     Energy_output  \n",
       "Ambient_temperature      -0.946352  \n",
       "Ambient_pressure          0.520058  \n",
       "Relative_humidity         0.387785  \n",
       "Energy_output             1.000000  "
      ]
     },
     "execution_count": 189,
     "metadata": {},
     "output_type": "execute_result"
    }
   ],
   "source": [
    "power.corr() #check correlation after dropping Exhaust_vaccum variable"
   ]
  },
  {
   "cell_type": "code",
   "execution_count": 190,
   "metadata": {
    "ExecuteTime": {
     "end_time": "2021-04-29T09:09:44.818857Z",
     "start_time": "2021-04-29T09:09:44.786858Z"
    }
   },
   "outputs": [
    {
     "data": {
      "text/plain": [
       "Ambient_temperature   -0.149024\n",
       "Ambient_pressure       0.240197\n",
       "Relative_humidity     -0.423511\n",
       "Energy_output          0.322296\n",
       "dtype: float64"
      ]
     },
     "execution_count": 190,
     "metadata": {},
     "output_type": "execute_result"
    }
   ],
   "source": [
    "power.skew() #Final check of skewness"
   ]
  },
  {
   "cell_type": "markdown",
   "metadata": {},
   "source": [
    "## Univariate and Bivariate visualizations"
   ]
  },
  {
   "cell_type": "code",
   "execution_count": 191,
   "metadata": {
    "ExecuteTime": {
     "end_time": "2021-04-29T09:09:54.822002Z",
     "start_time": "2021-04-29T09:09:54.241638Z"
    }
   },
   "outputs": [
    {
     "data": {
      "application/javascript": [
       "\n",
       "        if (window._pyforest_update_imports_cell) { window._pyforest_update_imports_cell('import sklearn\\nimport seaborn as sns\\nimport pandas as pd'); }\n",
       "    "
      ],
      "text/plain": [
       "<IPython.core.display.Javascript object>"
      ]
     },
     "metadata": {},
     "output_type": "display_data"
    },
    {
     "data": {
      "application/javascript": [
       "\n",
       "        if (window._pyforest_update_imports_cell) { window._pyforest_update_imports_cell('import sklearn\\nimport seaborn as sns\\nimport pandas as pd'); }\n",
       "    "
      ],
      "text/plain": [
       "<IPython.core.display.Javascript object>"
      ]
     },
     "metadata": {},
     "output_type": "display_data"
    },
    {
     "data": {
      "text/plain": [
       "<matplotlib.axes._subplots.AxesSubplot at 0x25dfdc9d670>"
      ]
     },
     "execution_count": 191,
     "metadata": {},
     "output_type": "execute_result"
    },
    {
     "data": {
      "image/png": "[encoded data removed]",
      "text/plain": [
       "<Figure size 360x360 with 1 Axes>"
      ]
     },
     "metadata": {},
     "output_type": "display_data"
    }
   ],
   "source": [
    "sns.set(rc={'figure.figsize':(5,5)})\n",
    "sns.kdeplot(power['Ambient_temperature'],shade=True)"
   ]
  },
  {
   "cell_type": "code",
   "execution_count": 192,
   "metadata": {
    "ExecuteTime": {
     "end_time": "2021-04-29T09:09:58.383773Z",
     "start_time": "2021-04-29T09:09:57.832845Z"
    }
   },
   "outputs": [
    {
     "data": {
      "application/javascript": [
       "\n",
       "        if (window._pyforest_update_imports_cell) { window._pyforest_update_imports_cell('import sklearn\\nimport seaborn as sns\\nimport pandas as pd'); }\n",
       "    "
      ],
      "text/plain": [
       "<IPython.core.display.Javascript object>"
      ]
     },
     "metadata": {},
     "output_type": "display_data"
    },
    {
     "data": {
      "application/javascript": [
       "\n",
       "        if (window._pyforest_update_imports_cell) { window._pyforest_update_imports_cell('import sklearn\\nimport seaborn as sns\\nimport pandas as pd'); }\n",
       "    "
      ],
      "text/plain": [
       "<IPython.core.display.Javascript object>"
      ]
     },
     "metadata": {},
     "output_type": "display_data"
    },
    {
     "data": {
      "text/plain": [
       "<matplotlib.axes._subplots.AxesSubplot at 0x25dfdac10d0>"
      ]
     },
     "execution_count": 192,
     "metadata": {},
     "output_type": "execute_result"
    },
    {
     "data": {
      "image/png": "[encoded data removed]",
      "text/plain": [
       "<Figure size 360x360 with 1 Axes>"
      ]
     },
     "metadata": {},
     "output_type": "display_data"
    }
   ],
   "source": [
    "sns.set(rc={'figure.figsize':(5,5)})\n",
    "sns.kdeplot(power['Ambient_pressure'],shade=True)"
   ]
  },
  {
   "cell_type": "code",
   "execution_count": 193,
   "metadata": {
    "ExecuteTime": {
     "end_time": "2021-04-29T09:10:01.766752Z",
     "start_time": "2021-04-29T09:10:01.290974Z"
    }
   },
   "outputs": [
    {
     "data": {
      "application/javascript": [
       "\n",
       "        if (window._pyforest_update_imports_cell) { window._pyforest_update_imports_cell('import sklearn\\nimport seaborn as sns\\nimport pandas as pd'); }\n",
       "    "
      ],
      "text/plain": [
       "<IPython.core.display.Javascript object>"
      ]
     },
     "metadata": {},
     "output_type": "display_data"
    },
    {
     "data": {
      "application/javascript": [
       "\n",
       "        if (window._pyforest_update_imports_cell) { window._pyforest_update_imports_cell('import sklearn\\nimport seaborn as sns\\nimport pandas as pd'); }\n",
       "    "
      ],
      "text/plain": [
       "<IPython.core.display.Javascript object>"
      ]
     },
     "metadata": {},
     "output_type": "display_data"
    },
    {
     "data": {
      "text/plain": [
       "<matplotlib.axes._subplots.AxesSubplot at 0x25dfdc8c970>"
      ]
     },
     "execution_count": 193,
     "metadata": {},
     "output_type": "execute_result"
    },
    {
     "data": {
      "image/png": "[encoded data removed]",
      "text/plain": [
       "<Figure size 360x360 with 1 Axes>"
      ]
     },
     "metadata": {},
     "output_type": "display_data"
    }
   ],
   "source": [
    "sns.set(rc={'figure.figsize':(5,5)})\n",
    "sns.kdeplot(power['Relative_humidity'],shade=True)"
   ]
  },
  {
   "cell_type": "markdown",
   "metadata": {},
   "source": [
    "## Model building"
   ]
  },
  {
   "cell_type": "code",
   "execution_count": 194,
   "metadata": {
    "ExecuteTime": {
     "end_time": "2021-04-29T09:10:09.437066Z",
     "start_time": "2021-04-29T09:10:09.311322Z"
    }
   },
   "outputs": [
    {
     "name": "stderr",
     "output_type": "stream",
     "text": [
      "C:\\Users\\ADMIN\\anaconda3\\lib\\site-packages\\sklearn\\model_selection\\_split.py:293: FutureWarning:\n",
      "\n",
      "Setting a random_state has no effect since shuffle is False. This will raise an error in 0.24. You should leave random_state to its default (None), or set shuffle=True.\n",
      "\n"
     ]
    }
   ],
   "source": [
    "from sklearn.model_selection import KFold\n",
    "from sklearn.model_selection import cross_val_score\n",
    "from sklearn.linear_model import LinearRegression\n",
    "array=power.values\n",
    "X=array[:,0:3]\n",
    "Y=array[:,3]\n",
    "num_folds=10\n",
    "seed=7\n",
    "kfold=KFold(n_splits=num_folds,random_state=seed)\n",
    "model=LinearRegression()\n",
    "results=cross_val_score(model,X,Y,cv=kfold)\n"
   ]
  },
  {
   "cell_type": "code",
   "execution_count": 195,
   "metadata": {
    "ExecuteTime": {
     "end_time": "2021-04-29T09:10:12.652580Z",
     "start_time": "2021-04-29T09:10:12.636580Z"
    }
   },
   "outputs": [
    {
     "data": {
      "text/plain": [
       "91.74616151539038"
      ]
     },
     "execution_count": 195,
     "metadata": {},
     "output_type": "execute_result"
    }
   ],
   "source": [
    "results.mean()*100"
   ]
  },
  {
   "cell_type": "code",
   "execution_count": 196,
   "metadata": {
    "ExecuteTime": {
     "end_time": "2021-04-29T09:10:14.778347Z",
     "start_time": "2021-04-29T09:10:14.682352Z"
    }
   },
   "outputs": [
    {
     "name": "stderr",
     "output_type": "stream",
     "text": [
      "C:\\Users\\ADMIN\\anaconda3\\lib\\site-packages\\sklearn\\model_selection\\_split.py:293: FutureWarning:\n",
      "\n",
      "Setting a random_state has no effect since shuffle is False. This will raise an error in 0.24. You should leave random_state to its default (None), or set shuffle=True.\n",
      "\n"
     ]
    }
   ],
   "source": [
    "from sklearn.model_selection import KFold\n",
    "from sklearn.model_selection import cross_val_score\n",
    "from sklearn.linear_model import Lasso\n",
    "array1=power.values\n",
    "X1=array1[:,0:3]\n",
    "Y1=array1[:,3]\n",
    "num_folds=10\n",
    "seed=7\n",
    "kfold=KFold(n_splits=num_folds,random_state=seed)\n",
    "model1=Lasso()\n",
    "results1=cross_val_score(model1,X1,Y1,cv=kfold)"
   ]
  },
  {
   "cell_type": "code",
   "execution_count": 197,
   "metadata": {
    "ExecuteTime": {
     "end_time": "2021-04-29T09:10:16.769467Z",
     "start_time": "2021-04-29T09:10:16.745443Z"
    }
   },
   "outputs": [
    {
     "data": {
      "text/plain": [
       "91.72832058985833"
      ]
     },
     "execution_count": 197,
     "metadata": {},
     "output_type": "execute_result"
    }
   ],
   "source": [
    "results1.mean()*100"
   ]
  },
  {
   "cell_type": "code",
   "execution_count": 198,
   "metadata": {
    "ExecuteTime": {
     "end_time": "2021-04-29T09:11:54.330056Z",
     "start_time": "2021-04-29T09:11:53.994259Z"
    }
   },
   "outputs": [
    {
     "name": "stderr",
     "output_type": "stream",
     "text": [
      "C:\\Users\\ADMIN\\anaconda3\\lib\\site-packages\\sklearn\\model_selection\\_split.py:293: FutureWarning:\n",
      "\n",
      "Setting a random_state has no effect since shuffle is False. This will raise an error in 0.24. You should leave random_state to its default (None), or set shuffle=True.\n",
      "\n"
     ]
    }
   ],
   "source": [
    "from sklearn.model_selection import KFold\n",
    "from sklearn.model_selection import cross_val_score\n",
    "from sklearn.linear_model import Ridge\n",
    "array2=power.values\n",
    "X2=array2[:,0:3]\n",
    "Y2=array2[:,3]\n",
    "num_folds=10\n",
    "seed=7\n",
    "kfold=KFold(n_splits=num_folds,random_state=seed)\n",
    "model2=Ridge()\n",
    "results2=cross_val_score(model2,X2,Y2,cv=kfold)"
   ]
  },
  {
   "cell_type": "code",
   "execution_count": 199,
   "metadata": {
    "ExecuteTime": {
     "end_time": "2021-04-29T09:12:52.364534Z",
     "start_time": "2021-04-29T09:12:52.340536Z"
    }
   },
   "outputs": [
    {
     "data": {
      "text/plain": [
       "91.74616157022776"
      ]
     },
     "execution_count": 199,
     "metadata": {},
     "output_type": "execute_result"
    }
   ],
   "source": [
    "results2.mean()*100"
   ]
  },
  {
   "cell_type": "code",
   "execution_count": 200,
   "metadata": {
    "ExecuteTime": {
     "end_time": "2021-04-29T09:25:29.526184Z",
     "start_time": "2021-04-29T09:25:28.903684Z"
    }
   },
   "outputs": [],
   "source": [
    "from sklearn.model_selection import KFold\n",
    "from sklearn.tree import DecisionTreeRegressor\n",
    "array3=power.values\n",
    "X3=array3[:,0:3]\n",
    "Y3=array3[:,3]\n",
    "num_folds=10\n",
    "kfold=KFold(n_splits=num_folds)\n",
    "model3=DecisionTreeRegressor()\n",
    "results3=cross_val_score(model3,X3,Y3,cv=kfold)"
   ]
  },
  {
   "cell_type": "code",
   "execution_count": 201,
   "metadata": {
    "ExecuteTime": {
     "end_time": "2021-04-29T09:25:49.969613Z",
     "start_time": "2021-04-29T09:25:49.945594Z"
    }
   },
   "outputs": [
    {
     "data": {
      "text/plain": [
       "93.5041862483683"
      ]
     },
     "execution_count": 201,
     "metadata": {},
     "output_type": "execute_result"
    }
   ],
   "source": [
    "results3.mean()*100"
   ]
  },
  {
   "cell_type": "code",
   "execution_count": 202,
   "metadata": {
    "ExecuteTime": {
     "end_time": "2021-04-29T09:29:19.349380Z",
     "start_time": "2021-04-29T09:28:38.219815Z"
    }
   },
   "outputs": [],
   "source": [
    "from sklearn.ensemble import RandomForestRegressor \n",
    "array4=power.values\n",
    "X4=array4[:,0:3]\n",
    "Y4=array4[:,3]\n",
    "num_folds=10\n",
    "kfold=KFold(n_splits=num_folds)\n",
    "model4=RandomForestRegressor()\n",
    "results4=cross_val_score(model4,X4,Y4,cv=kfold)"
   ]
  },
  {
   "cell_type": "code",
   "execution_count": 203,
   "metadata": {
    "ExecuteTime": {
     "end_time": "2021-04-29T09:29:39.522152Z",
     "start_time": "2021-04-29T09:29:39.506153Z"
    }
   },
   "outputs": [
    {
     "data": {
      "text/plain": [
       "95.95918453605107"
      ]
     },
     "execution_count": 203,
     "metadata": {},
     "output_type": "execute_result"
    }
   ],
   "source": [
    "results4.mean()*100 "
   ]
  },
  {
   "cell_type": "code",
   "execution_count": 204,
   "metadata": {
    "ExecuteTime": {
     "end_time": "2021-04-29T09:58:04.261512Z",
     "start_time": "2021-04-29T09:58:04.237503Z"
    }
   },
   "outputs": [],
   "source": [
    "import pickle"
   ]
  },
  {
   "cell_type": "code",
   "execution_count": 205,
   "metadata": {
    "ExecuteTime": {
     "end_time": "2021-04-29T09:59:59.754760Z",
     "start_time": "2021-04-29T09:59:59.738762Z"
    }
   },
   "outputs": [],
   "source": [
    "with open (\"random_pickle\",'wb')as f:\n",
    "    pickle.dump(model4,f)"
   ]
  }
 ],
 "metadata": {
  "kernelspec": {
   "display_name": "Python 3",
   "language": "python",
   "name": "python3"
  },
  "language_info": {
   "codemirror_mode": {
    "name": "ipython",
    "version": 3
   },
   "file_extension": ".py",
   "mimetype": "text/x-python",
   "name": "python",
   "nbconvert_exporter": "python",
   "pygments_lexer": "ipython3",
   "version": "3.8.3"
  },
  "toc": {
   "base_numbering": 1,
   "nav_menu": {},
   "number_sections": true,
   "sideBar": true,
   "skip_h1_title": false,
   "title_cell": "Table of Contents",
   "title_sidebar": "Contents",
   "toc_cell": false,
   "toc_position": {},
   "toc_section_display": true,
   "toc_window_display": false
  },
  "varInspector": {
   "cols": {
    "lenName": 16,
    "lenType": 16,
    "lenVar": 40
   },
   "kernels_config": {
    "python": {
     "delete_cmd_postfix": "",
     "delete_cmd_prefix": "del ",
     "library": "var_list.py",
     "varRefreshCmd": "print(var_dic_list())"
    },
    "r": {
     "delete_cmd_postfix": ") ",
     "delete_cmd_prefix": "rm(",
     "library": "var_list.r",
     "varRefreshCmd": "cat(var_dic_list()) "
    }
   },
   "types_to_exclude": [
    "module",
    "function",
    "builtin_function_or_method",
    "instance",
    "_Feature"
   ],
   "window_display": false
  }
 },
 "nbformat": 4,
 "nbformat_minor": 4
}
